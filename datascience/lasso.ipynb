{
 "cells": [
  {
   "cell_type": "code",
   "execution_count": 1,
   "metadata": {},
   "outputs": [],
   "source": [
    "import pandas as pd"
   ]
  },
  {
   "cell_type": "code",
   "execution_count": 7,
   "metadata": {},
   "outputs": [
    {
     "name": "stderr",
     "output_type": "stream",
     "text": [
      "C:\\Users\\user10\\Anaconda3\\lib\\site-packages\\ipykernel_launcher.py:1: FutureWarning: read_table is deprecated, use read_csv instead.\n",
      "  \"\"\"Entry point for launching an IPython kernel.\n"
     ]
    }
   ],
   "source": [
    "df=pd.read_table(\"CommViolPredUnnormalizedData.txt\",sep=\",\",na_values=\"?\")\n",
    "df.dropna(inplace=True)"
   ]
  },
  {
   "cell_type": "code",
   "execution_count": 13,
   "metadata": {},
   "outputs": [],
   "source": [
    "from sklearn.model_selection import train_test_split\n",
    "from sklearn.linear_model import Lasso"
   ]
  },
  {
   "cell_type": "code",
   "execution_count": 9,
   "metadata": {},
   "outputs": [
    {
     "data": {
      "text/html": [
       "<div>\n",
       "<style scoped>\n",
       "    .dataframe tbody tr th:only-of-type {\n",
       "        vertical-align: middle;\n",
       "    }\n",
       "\n",
       "    .dataframe tbody tr th {\n",
       "        vertical-align: top;\n",
       "    }\n",
       "\n",
       "    .dataframe thead th {\n",
       "        text-align: right;\n",
       "    }\n",
       "</style>\n",
       "<table border=\"1\" class=\"dataframe\">\n",
       "  <thead>\n",
       "    <tr style=\"text-align: right;\">\n",
       "      <th></th>\n",
       "      <th>population</th>\n",
       "      <th>householdsize</th>\n",
       "      <th>racepctblack</th>\n",
       "      <th>racePctWhite</th>\n",
       "      <th>racePctAsian</th>\n",
       "      <th>racePctHisp</th>\n",
       "      <th>agePct12t21</th>\n",
       "      <th>agePct12t29</th>\n",
       "      <th>agePct16t24</th>\n",
       "      <th>agePct65up</th>\n",
       "      <th>...</th>\n",
       "      <th>assaults</th>\n",
       "      <th>assaultPerPop</th>\n",
       "      <th>burglaries</th>\n",
       "      <th>burglPerPop</th>\n",
       "      <th>larcenies</th>\n",
       "      <th>larcPerPop</th>\n",
       "      <th>autoTheft</th>\n",
       "      <th>autoTheftPerPop</th>\n",
       "      <th>arsons</th>\n",
       "      <th>arsonsPerPop</th>\n",
       "    </tr>\n",
       "  </thead>\n",
       "  <tbody>\n",
       "    <tr>\n",
       "      <th>54</th>\n",
       "      <td>332943</td>\n",
       "      <td>2.54</td>\n",
       "      <td>19.70</td>\n",
       "      <td>76.96</td>\n",
       "      <td>1.05</td>\n",
       "      <td>3.97</td>\n",
       "      <td>14.78</td>\n",
       "      <td>28.65</td>\n",
       "      <td>14.52</td>\n",
       "      <td>12.25</td>\n",
       "      <td>...</td>\n",
       "      <td>1195.0</td>\n",
       "      <td>368.86</td>\n",
       "      <td>5502.0</td>\n",
       "      <td>1698.29</td>\n",
       "      <td>15251.0</td>\n",
       "      <td>4707.51</td>\n",
       "      <td>4517.0</td>\n",
       "      <td>1394.26</td>\n",
       "      <td>357.0</td>\n",
       "      <td>110.19</td>\n",
       "    </tr>\n",
       "    <tr>\n",
       "      <th>55</th>\n",
       "      <td>1585577</td>\n",
       "      <td>2.63</td>\n",
       "      <td>39.86</td>\n",
       "      <td>53.52</td>\n",
       "      <td>2.74</td>\n",
       "      <td>5.63</td>\n",
       "      <td>13.92</td>\n",
       "      <td>28.02</td>\n",
       "      <td>14.12</td>\n",
       "      <td>13.74</td>\n",
       "      <td>...</td>\n",
       "      <td>6821.0</td>\n",
       "      <td>445.86</td>\n",
       "      <td>15117.0</td>\n",
       "      <td>988.14</td>\n",
       "      <td>39181.0</td>\n",
       "      <td>2561.10</td>\n",
       "      <td>23785.0</td>\n",
       "      <td>1554.73</td>\n",
       "      <td>2282.0</td>\n",
       "      <td>149.17</td>\n",
       "    </tr>\n",
       "    <tr>\n",
       "      <th>58</th>\n",
       "      <td>66049</td>\n",
       "      <td>2.63</td>\n",
       "      <td>26.41</td>\n",
       "      <td>72.45</td>\n",
       "      <td>0.76</td>\n",
       "      <td>0.72</td>\n",
       "      <td>17.79</td>\n",
       "      <td>29.84</td>\n",
       "      <td>18.19</td>\n",
       "      <td>14.33</td>\n",
       "      <td>...</td>\n",
       "      <td>351.0</td>\n",
       "      <td>522.63</td>\n",
       "      <td>560.0</td>\n",
       "      <td>833.83</td>\n",
       "      <td>2316.0</td>\n",
       "      <td>3448.48</td>\n",
       "      <td>184.0</td>\n",
       "      <td>273.97</td>\n",
       "      <td>50.0</td>\n",
       "      <td>74.45</td>\n",
       "    </tr>\n",
       "    <tr>\n",
       "      <th>99</th>\n",
       "      <td>130474</td>\n",
       "      <td>2.66</td>\n",
       "      <td>36.14</td>\n",
       "      <td>53.85</td>\n",
       "      <td>2.41</td>\n",
       "      <td>13.22</td>\n",
       "      <td>17.06</td>\n",
       "      <td>34.55</td>\n",
       "      <td>19.17</td>\n",
       "      <td>10.81</td>\n",
       "      <td>...</td>\n",
       "      <td>1154.0</td>\n",
       "      <td>964.85</td>\n",
       "      <td>3417.0</td>\n",
       "      <td>2856.93</td>\n",
       "      <td>7719.0</td>\n",
       "      <td>6453.80</td>\n",
       "      <td>1873.0</td>\n",
       "      <td>1566.00</td>\n",
       "      <td>134.0</td>\n",
       "      <td>112.04</td>\n",
       "    </tr>\n",
       "    <tr>\n",
       "      <th>122</th>\n",
       "      <td>70487</td>\n",
       "      <td>2.59</td>\n",
       "      <td>17.38</td>\n",
       "      <td>81.61</td>\n",
       "      <td>0.51</td>\n",
       "      <td>0.65</td>\n",
       "      <td>16.05</td>\n",
       "      <td>28.26</td>\n",
       "      <td>15.37</td>\n",
       "      <td>13.59</td>\n",
       "      <td>...</td>\n",
       "      <td>786.0</td>\n",
       "      <td>1111.77</td>\n",
       "      <td>963.0</td>\n",
       "      <td>1362.13</td>\n",
       "      <td>4048.0</td>\n",
       "      <td>5725.76</td>\n",
       "      <td>457.0</td>\n",
       "      <td>646.41</td>\n",
       "      <td>6.0</td>\n",
       "      <td>8.49</td>\n",
       "    </tr>\n",
       "  </tbody>\n",
       "</table>\n",
       "<p>5 rows × 140 columns</p>\n",
       "</div>"
      ],
      "text/plain": [
       "     population  householdsize  racepctblack  racePctWhite  racePctAsian  \\\n",
       "54       332943           2.54         19.70         76.96          1.05   \n",
       "55      1585577           2.63         39.86         53.52          2.74   \n",
       "58        66049           2.63         26.41         72.45          0.76   \n",
       "99       130474           2.66         36.14         53.85          2.41   \n",
       "122       70487           2.59         17.38         81.61          0.51   \n",
       "\n",
       "     racePctHisp  agePct12t21  agePct12t29  agePct16t24  agePct65up  ...  \\\n",
       "54          3.97        14.78        28.65        14.52       12.25  ...   \n",
       "55          5.63        13.92        28.02        14.12       13.74  ...   \n",
       "58          0.72        17.79        29.84        18.19       14.33  ...   \n",
       "99         13.22        17.06        34.55        19.17       10.81  ...   \n",
       "122         0.65        16.05        28.26        15.37       13.59  ...   \n",
       "\n",
       "     assaults  assaultPerPop  burglaries  burglPerPop  larcenies  larcPerPop  \\\n",
       "54     1195.0         368.86      5502.0      1698.29    15251.0     4707.51   \n",
       "55     6821.0         445.86     15117.0       988.14    39181.0     2561.10   \n",
       "58      351.0         522.63       560.0       833.83     2316.0     3448.48   \n",
       "99     1154.0         964.85      3417.0      2856.93     7719.0     6453.80   \n",
       "122     786.0        1111.77       963.0      1362.13     4048.0     5725.76   \n",
       "\n",
       "     autoTheft  autoTheftPerPop  arsons  arsonsPerPop  \n",
       "54      4517.0          1394.26   357.0        110.19  \n",
       "55     23785.0          1554.73  2282.0        149.17  \n",
       "58       184.0           273.97    50.0         74.45  \n",
       "99      1873.0          1566.00   134.0        112.04  \n",
       "122      457.0           646.41     6.0          8.49  \n",
       "\n",
       "[5 rows x 140 columns]"
      ]
     },
     "execution_count": 9,
     "metadata": {},
     "output_type": "execute_result"
    }
   ],
   "source": [
    "x=df[df.columns[5:-2]]\n",
    "x.head()"
   ]
  },
  {
   "cell_type": "code",
   "execution_count": 10,
   "metadata": {},
   "outputs": [
    {
     "data": {
      "text/plain": [
       "54      984.96\n",
       "55     1279.60\n",
       "58      753.42\n",
       "99     2127.02\n",
       "122    1497.92\n",
       "Name: ViolentCrimesPerPop, dtype: float64"
      ]
     },
     "execution_count": 10,
     "metadata": {},
     "output_type": "execute_result"
    }
   ],
   "source": [
    "y=df['ViolentCrimesPerPop']\n",
    "y.head()"
   ]
  },
  {
   "cell_type": "code",
   "execution_count": 19,
   "metadata": {},
   "outputs": [],
   "source": [
    "lassoModel=Lasso(alpha=1)"
   ]
  },
  {
   "cell_type": "code",
   "execution_count": 14,
   "metadata": {},
   "outputs": [],
   "source": [
    "x_train,x_test,y_train,y_test=train_test_split(x,y,test_size=0.30,random_state=42)"
   ]
  },
  {
   "cell_type": "code",
   "execution_count": 16,
   "metadata": {},
   "outputs": [
    {
     "data": {
      "text/plain": [
       "(77, 140)"
      ]
     },
     "execution_count": 16,
     "metadata": {},
     "output_type": "execute_result"
    }
   ],
   "source": [
    "x_train.shape"
   ]
  },
  {
   "cell_type": "code",
   "execution_count": 17,
   "metadata": {},
   "outputs": [
    {
     "data": {
      "text/plain": [
       "(34, 140)"
      ]
     },
     "execution_count": 17,
     "metadata": {},
     "output_type": "execute_result"
    }
   ],
   "source": [
    "x_test.shape"
   ]
  },
  {
   "cell_type": "code",
   "execution_count": 23,
   "metadata": {},
   "outputs": [
    {
     "data": {
      "text/plain": [
       "Lasso(alpha=1, copy_X=True, fit_intercept=True, max_iter=1000, normalize=False,\n",
       "      positive=False, precompute=False, random_state=None, selection='cyclic',\n",
       "      tol=0.0001, warm_start=False)"
      ]
     },
     "execution_count": 23,
     "metadata": {},
     "output_type": "execute_result"
    }
   ],
   "source": [
    "lassoModel.fit(x_train,y_train)"
   ]
  },
  {
   "cell_type": "code",
   "execution_count": 26,
   "metadata": {},
   "outputs": [
    {
     "data": {
      "text/plain": [
       "99.50725707534774"
      ]
     },
     "execution_count": 26,
     "metadata": {},
     "output_type": "execute_result"
    }
   ],
   "source": [
    "lassoModel.score(x_test,y_test)*100"
   ]
  },
  {
   "cell_type": "code",
   "execution_count": 25,
   "metadata": {},
   "outputs": [
    {
     "data": {
      "text/plain": [
       "array([ 5.64981832e-04, -0.00000000e+00,  0.00000000e+00, -2.30020800e-01,\n",
       "        0.00000000e+00, -2.21514567e-02, -0.00000000e+00,  0.00000000e+00,\n",
       "       -0.00000000e+00, -0.00000000e+00, -8.50247964e-06, -0.00000000e+00,\n",
       "       -8.10967598e-04,  0.00000000e+00, -0.00000000e+00,  5.04798942e-01,\n",
       "       -1.08381232e-02,  0.00000000e+00,  0.00000000e+00,  8.93539700e-04,\n",
       "        1.08562337e-02, -7.73879634e-03, -1.92061674e-04, -3.36661169e-05,\n",
       "       -3.07112062e-04,  1.74418844e-03, -2.92951199e-04, -3.93537959e-04,\n",
       "       -0.00000000e+00, -0.00000000e+00, -0.00000000e+00, -0.00000000e+00,\n",
       "       -0.00000000e+00,  1.22771125e-01,  7.08294214e-01, -0.00000000e+00,\n",
       "        0.00000000e+00, -8.28425062e-01, -0.00000000e+00,  5.48062955e-01,\n",
       "       -0.00000000e+00, -0.00000000e+00, -0.00000000e+00,  0.00000000e+00,\n",
       "        0.00000000e+00,  1.14041942e-01, -0.00000000e+00,  8.68710672e-02,\n",
       "        2.19908441e-01, -1.89952836e-03, -0.00000000e+00,  1.11297010e-03,\n",
       "       -0.00000000e+00, -3.94061213e-01,  0.00000000e+00,  3.08237274e-01,\n",
       "        0.00000000e+00,  0.00000000e+00,  0.00000000e+00,  0.00000000e+00,\n",
       "        0.00000000e+00, -0.00000000e+00,  0.00000000e+00, -0.00000000e+00,\n",
       "       -0.00000000e+00, -0.00000000e+00,  0.00000000e+00, -0.00000000e+00,\n",
       "       -0.00000000e+00, -6.13895919e-02, -0.00000000e+00,  6.47684728e-03,\n",
       "        0.00000000e+00,  0.00000000e+00,  0.00000000e+00, -0.00000000e+00,\n",
       "       -1.64638310e-01, -0.00000000e+00, -0.00000000e+00, -4.62753762e-04,\n",
       "        1.80307862e-04, -9.56977594e-05,  2.62502641e-04, -1.68874854e-02,\n",
       "       -6.25626152e-02,  2.17192972e-02, -2.14676766e-02,  1.55975243e-02,\n",
       "        0.00000000e+00, -0.00000000e+00, -0.00000000e+00,  3.69224632e-02,\n",
       "        1.45201441e-01,  0.00000000e+00, -0.00000000e+00, -0.00000000e+00,\n",
       "        0.00000000e+00, -0.00000000e+00, -1.37829247e-01,  5.12537483e-02,\n",
       "        1.04814272e-02,  1.59960992e-02, -1.18372918e-04,  1.95014289e-04,\n",
       "       -1.51143324e-02,  2.55552876e-02,  0.00000000e+00, -0.00000000e+00,\n",
       "        6.96644821e-03,  0.00000000e+00, -0.00000000e+00,  6.52837747e-01,\n",
       "       -4.33527386e-01, -5.17293946e-01,  6.80018235e-03,  1.59518824e-04,\n",
       "       -5.52828172e-04, -2.69745974e-01,  9.34138737e-02,  2.32047758e-06,\n",
       "       -0.00000000e+00,  0.00000000e+00, -0.00000000e+00, -1.83872647e-04,\n",
       "        1.14960748e+00,  8.84613400e-01,  6.11361600e-02,  9.20383896e-01,\n",
       "        9.52954655e-02,  8.88135923e-01, -7.48355655e-02,  1.08164880e+00,\n",
       "        4.04850786e-03, -3.73114922e-03, -1.68650658e-02,  1.40949730e-02,\n",
       "       -6.25018103e-02,  5.15460214e-02,  1.80039053e-01, -1.48756456e-01])"
      ]
     },
     "execution_count": 25,
     "metadata": {},
     "output_type": "execute_result"
    }
   ],
   "source": [
    "lassoModel.coef_ "
   ]
  },
  {
   "cell_type": "code",
   "execution_count": null,
   "metadata": {},
   "outputs": [],
   "source": []
  }
 ],
 "metadata": {
  "kernelspec": {
   "display_name": "Python 3",
   "language": "python",
   "name": "python3"
  },
  "language_info": {
   "codemirror_mode": {
    "name": "ipython",
    "version": 3
   },
   "file_extension": ".py",
   "mimetype": "text/x-python",
   "name": "python",
   "nbconvert_exporter": "python",
   "pygments_lexer": "ipython3",
   "version": "3.7.3"
  }
 },
 "nbformat": 4,
 "nbformat_minor": 2
}
